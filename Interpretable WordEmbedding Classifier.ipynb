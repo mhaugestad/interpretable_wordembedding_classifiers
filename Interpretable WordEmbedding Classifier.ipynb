{
 "cells": [
  {
   "cell_type": "markdown",
   "metadata": {},
   "source": [
    "# Interpretable Wordembedding Classifiers"
   ]
  },
  {
   "cell_type": "markdown",
   "metadata": {},
   "source": [
    "## Introduction\n",
    "Wordembeddings can be increadibly useful as features in classification models. Unlike bag-of-words approaches, wordembeddings can capture semantic relationships between words, and are fairly light compared embeddings from more complex models like ELMO and BERT.\n",
    "\n",
    "Despite its usefulness and high performance, wordembeddings can often be difficult to use in classification tasks where it is vital that researchers are able to explain the data generating process, not just provide an accurate prediction. The embeddings are in and of themselves not interpretable, and therefore researchers often shy away from using them.\n",
    "\n",
    "In this notebook I will present a simple as to how to how we can add interpretability to classifier models based on word embeddings, and a simple process for working our way back from predictions made by a classifier that takes wordembeddings as input to individual words or terms that the model seem to be using to discriminate your classes.\n",
    "\n",
    "The approach can fairly simply be summarised as follows:\n",
    "\n",
    "* Train a classifier that takes document level embeddings as input.\n",
    "* Create a vocabulary matrix with ndividual word embeddings for all the words found in your corpus.\n",
    "* Run the vocabulary matrix through the trained algorithm and pick out the individual words the algorithm feels the most certain belong to each class.\n",
    "\n",
    "In the parts that follow I will demonstrate how this can be done by training a classifier to distinguish whether a newspaper headline came from a politics article or a sports article.\n"
   ]
  },
  {
   "cell_type": "markdown",
   "metadata": {},
   "source": [
    "## Get News Headlines from The Guardian API"
   ]
  },
  {
   "cell_type": "markdown",
   "metadata": {},
   "source": [
    "We firstly, need to get our data. The Guardian has a really good API for this purpose; so we can pull out all politics and sports articles from the Guardian between two arbitary points in time, say march and may 2018."
   ]
  },
  {
   "cell_type": "code",
   "execution_count": 1,
   "metadata": {},
   "outputs": [],
   "source": [
    "from GuardianAPI import Guardian_API\n",
    "import pandas as pd"
   ]
  },
  {
   "cell_type": "code",
   "execution_count": 2,
   "metadata": {},
   "outputs": [
    {
     "name": "stdout",
     "output_type": "stream",
     "text": [
      "api_key: ········\n"
     ]
    }
   ],
   "source": [
    "gapi = Guardian_API()"
   ]
  },
  {
   "cell_type": "code",
   "execution_count": 3,
   "metadata": {},
   "outputs": [],
   "source": [
    "sports_json = gapi.get_content({'section':'sport', 'from-date':'2018-03-1', 'to-date':'2018-05-30', 'code':'uk', 'page-size':50})"
   ]
  },
  {
   "cell_type": "code",
   "execution_count": 4,
   "metadata": {},
   "outputs": [],
   "source": [
    "politics_json = gapi.get_content({'section':'politics', 'from-date':'2018-03-1', 'to-date':'2018-05-30', 'code':'uk', 'page-size':50})"
   ]
  },
  {
   "cell_type": "code",
   "execution_count": 5,
   "metadata": {},
   "outputs": [
    {
     "data": {
      "text/html": [
       "<div>\n",
       "<style scoped>\n",
       "    .dataframe tbody tr th:only-of-type {\n",
       "        vertical-align: middle;\n",
       "    }\n",
       "\n",
       "    .dataframe tbody tr th {\n",
       "        vertical-align: top;\n",
       "    }\n",
       "\n",
       "    .dataframe thead th {\n",
       "        text-align: right;\n",
       "    }\n",
       "</style>\n",
       "<table border=\"1\" class=\"dataframe\">\n",
       "  <thead>\n",
       "    <tr style=\"text-align: right;\">\n",
       "      <th></th>\n",
       "      <th>id</th>\n",
       "      <th>type</th>\n",
       "      <th>sectionId</th>\n",
       "      <th>sectionName</th>\n",
       "      <th>webPublicationDate</th>\n",
       "      <th>webTitle</th>\n",
       "      <th>webUrl</th>\n",
       "      <th>apiUrl</th>\n",
       "      <th>isHosted</th>\n",
       "      <th>pillarId</th>\n",
       "      <th>pillarName</th>\n",
       "    </tr>\n",
       "  </thead>\n",
       "  <tbody>\n",
       "    <tr>\n",
       "      <th>401</th>\n",
       "      <td>sport/2018/may/06/justify-kentucky-derby-mende...</td>\n",
       "      <td>article</td>\n",
       "      <td>sport</td>\n",
       "      <td>Sport</td>\n",
       "      <td>2018-05-06T00:08:06Z</td>\n",
       "      <td>Justify reigns in the rain at Kentucky Derby a...</td>\n",
       "      <td>https://www.theguardian.com/sport/2018/may/06/...</td>\n",
       "      <td>https://content.guardianapis.com/sport/2018/ma...</td>\n",
       "      <td>False</td>\n",
       "      <td>pillar/sport</td>\n",
       "      <td>Sport</td>\n",
       "    </tr>\n",
       "    <tr>\n",
       "      <th>26</th>\n",
       "      <td>sport/2018/may/28/marco-trungelliti-road-trip-...</td>\n",
       "      <td>article</td>\n",
       "      <td>sport</td>\n",
       "      <td>Sport</td>\n",
       "      <td>2018-05-28T21:13:10Z</td>\n",
       "      <td>Marco Trungelliti makes 500-mile family road t...</td>\n",
       "      <td>https://www.theguardian.com/sport/2018/may/28/...</td>\n",
       "      <td>https://content.guardianapis.com/sport/2018/ma...</td>\n",
       "      <td>False</td>\n",
       "      <td>pillar/sport</td>\n",
       "      <td>Sport</td>\n",
       "    </tr>\n",
       "    <tr>\n",
       "      <th>2207</th>\n",
       "      <td>politics/2018/mar/11/labour-mps-should-not-app...</td>\n",
       "      <td>article</td>\n",
       "      <td>politics</td>\n",
       "      <td>Politics</td>\n",
       "      <td>2018-03-11T11:15:13Z</td>\n",
       "      <td>Labour MPs should not appear on Russia Today, ...</td>\n",
       "      <td>https://www.theguardian.com/politics/2018/mar/...</td>\n",
       "      <td>https://content.guardianapis.com/politics/2018...</td>\n",
       "      <td>False</td>\n",
       "      <td>pillar/news</td>\n",
       "      <td>News</td>\n",
       "    </tr>\n",
       "    <tr>\n",
       "      <th>2205</th>\n",
       "      <td>politics/2018/mar/11/scottish-labour-conferenc...</td>\n",
       "      <td>article</td>\n",
       "      <td>politics</td>\n",
       "      <td>Politics</td>\n",
       "      <td>2018-03-11T15:43:53Z</td>\n",
       "      <td>Scottish Labour conference backs Corbyn on Brexit</td>\n",
       "      <td>https://www.theguardian.com/politics/2018/mar/...</td>\n",
       "      <td>https://content.guardianapis.com/politics/2018...</td>\n",
       "      <td>False</td>\n",
       "      <td>pillar/news</td>\n",
       "      <td>News</td>\n",
       "    </tr>\n",
       "    <tr>\n",
       "      <th>316</th>\n",
       "      <td>sport/2018/may/11/guildford-extend-record-run-...</td>\n",
       "      <td>article</td>\n",
       "      <td>sport</td>\n",
       "      <td>Sport</td>\n",
       "      <td>2018-05-11T18:28:33Z</td>\n",
       "      <td>Chess: Guildford extend their record unbeaten ...</td>\n",
       "      <td>https://www.theguardian.com/sport/2018/may/11/...</td>\n",
       "      <td>https://content.guardianapis.com/sport/2018/ma...</td>\n",
       "      <td>False</td>\n",
       "      <td>pillar/sport</td>\n",
       "      <td>Sport</td>\n",
       "    </tr>\n",
       "  </tbody>\n",
       "</table>\n",
       "</div>"
      ],
      "text/plain": [
       "                                                     id     type sectionId  \\\n",
       "401   sport/2018/may/06/justify-kentucky-derby-mende...  article     sport   \n",
       "26    sport/2018/may/28/marco-trungelliti-road-trip-...  article     sport   \n",
       "2207  politics/2018/mar/11/labour-mps-should-not-app...  article  politics   \n",
       "2205  politics/2018/mar/11/scottish-labour-conferenc...  article  politics   \n",
       "316   sport/2018/may/11/guildford-extend-record-run-...  article     sport   \n",
       "\n",
       "     sectionName    webPublicationDate  \\\n",
       "401        Sport  2018-05-06T00:08:06Z   \n",
       "26         Sport  2018-05-28T21:13:10Z   \n",
       "2207    Politics  2018-03-11T11:15:13Z   \n",
       "2205    Politics  2018-03-11T15:43:53Z   \n",
       "316        Sport  2018-05-11T18:28:33Z   \n",
       "\n",
       "                                               webTitle  \\\n",
       "401   Justify reigns in the rain at Kentucky Derby a...   \n",
       "26    Marco Trungelliti makes 500-mile family road t...   \n",
       "2207  Labour MPs should not appear on Russia Today, ...   \n",
       "2205  Scottish Labour conference backs Corbyn on Brexit   \n",
       "316   Chess: Guildford extend their record unbeaten ...   \n",
       "\n",
       "                                                 webUrl  \\\n",
       "401   https://www.theguardian.com/sport/2018/may/06/...   \n",
       "26    https://www.theguardian.com/sport/2018/may/28/...   \n",
       "2207  https://www.theguardian.com/politics/2018/mar/...   \n",
       "2205  https://www.theguardian.com/politics/2018/mar/...   \n",
       "316   https://www.theguardian.com/sport/2018/may/11/...   \n",
       "\n",
       "                                                 apiUrl  isHosted  \\\n",
       "401   https://content.guardianapis.com/sport/2018/ma...     False   \n",
       "26    https://content.guardianapis.com/sport/2018/ma...     False   \n",
       "2207  https://content.guardianapis.com/politics/2018...     False   \n",
       "2205  https://content.guardianapis.com/politics/2018...     False   \n",
       "316   https://content.guardianapis.com/sport/2018/ma...     False   \n",
       "\n",
       "          pillarId pillarName  \n",
       "401   pillar/sport      Sport  \n",
       "26    pillar/sport      Sport  \n",
       "2207   pillar/news       News  \n",
       "2205   pillar/news       News  \n",
       "316   pillar/sport      Sport  "
      ]
     },
     "execution_count": 5,
     "metadata": {},
     "output_type": "execute_result"
    }
   ],
   "source": [
    "df = pd.DataFrame(sports_json + politics_json)\n",
    "df.sample(5)"
   ]
  },
  {
   "cell_type": "markdown",
   "metadata": {},
   "source": [
    "## Pre-Trained Word Embeddings"
   ]
  },
  {
   "cell_type": "markdown",
   "metadata": {},
   "source": [
    "We now need to get pre-trained word embeddings from gensims api and then create an embedding that represent each headline, by taking the average embedding of all the words used in each headline."
   ]
  },
  {
   "cell_type": "code",
   "execution_count": 7,
   "metadata": {},
   "outputs": [],
   "source": [
    "# Call in depenencies\n",
    "import gensim.downloader as api\n",
    "import re\n",
    "import numpy as np\n",
    "from nltk.corpus import stopwords"
   ]
  },
  {
   "cell_type": "code",
   "execution_count": 8,
   "metadata": {},
   "outputs": [],
   "source": [
    "# Get glove embeddings\n",
    "glove_vectors = api.load('glove-wiki-gigaword-300')"
   ]
  },
  {
   "cell_type": "code",
   "execution_count": 9,
   "metadata": {},
   "outputs": [],
   "source": [
    "# Get a set of stopwords\n",
    "StopWords = set(stopwords.open('english'))"
   ]
  },
  {
   "cell_type": "code",
   "execution_count": 10,
   "metadata": {},
   "outputs": [],
   "source": [
    "def text_preprocess(text, word_vectors, StopWords):\n",
    "    tmp_txt = text.lower() # lowercase all text\n",
    "    tmp_txt = re.sub(r'\\!', ' ! ', tmp_txt) # add a a space to each exclamation mark to ensure they get a token\n",
    "    tmp_txt = re.sub(r'\\?', ' ? ', tmp_txt) # add a a space to each question mark to ensure they get a token\n",
    "    if stopwords:\n",
    "        tokens = [w for w in tmp_txt.split() if w in word_vectors.vocab and w not in StopWords]\n",
    "    else:\n",
    "        tokens = [w for w in tmp_txt.split() if w in word_vectors.vocab]\n",
    "    return tokens"
   ]
  },
  {
   "cell_type": "code",
   "execution_count": 11,
   "metadata": {},
   "outputs": [],
   "source": [
    "def doc_vector(tokens, word_vectors):\n",
    "    doc_vec = np.mean(np.array([word_vectors[word]\n",
    "                                 for word in tokens]), axis = 0)\n",
    "    return doc_vec"
   ]
  },
  {
   "cell_type": "code",
   "execution_count": 12,
   "metadata": {},
   "outputs": [],
   "source": [
    "def concat_texts(corpus, word_vectors):\n",
    "    out_matrix = np.empty((len(corpus), 300), float)\n",
    "    for row,txt in enumerate(corpus):\n",
    "        out_matrix[row] = doc_vector(txt, word_vectors)\n",
    "    return out_matrix"
   ]
  },
  {
   "cell_type": "code",
   "execution_count": 13,
   "metadata": {},
   "outputs": [],
   "source": [
    "headlines_processed = [text_preprocess(x, glove_vectors, StopWords) for x in df.webTitle]"
   ]
  },
  {
   "cell_type": "code",
   "execution_count": 14,
   "metadata": {},
   "outputs": [
    {
     "data": {
      "text/plain": [
       "(2293, 300)"
      ]
     },
     "execution_count": 14,
     "metadata": {},
     "output_type": "execute_result"
    }
   ],
   "source": [
    "headline_matrix = concat_texts(headlines_processed, glove_vectors)\n",
    "headline_matrix.shape"
   ]
  },
  {
   "cell_type": "markdown",
   "metadata": {},
   "source": [
    "## Split data into Training and Test Set"
   ]
  },
  {
   "cell_type": "code",
   "execution_count": 15,
   "metadata": {},
   "outputs": [],
   "source": [
    "# Call dependency\n",
    "from sklearn.model_selection import train_test_split"
   ]
  },
  {
   "cell_type": "code",
   "execution_count": 16,
   "metadata": {},
   "outputs": [],
   "source": [
    "# Split data into train and test\n",
    "X_train, X_test, y_train, y_test = train_test_split(headline_matrix, \n",
    "                                                    df.sectionId, \n",
    "                                                    test_size=0.2, \n",
    "                                                    random_state=123)"
   ]
  },
  {
   "cell_type": "code",
   "execution_count": 17,
   "metadata": {},
   "outputs": [
    {
     "name": "stdout",
     "output_type": "stream",
     "text": [
      "Training Examples:  (1834, 300) \n",
      "Test Examples:  (459, 300)\n"
     ]
    }
   ],
   "source": [
    "print('Training Examples: ', X_train.shape, \"\\n\"\n",
    "      'Test Examples: ', X_test.shape)"
   ]
  },
  {
   "cell_type": "markdown",
   "metadata": {},
   "source": [
    "## Get Vocabulary Matrix"
   ]
  },
  {
   "cell_type": "markdown",
   "metadata": {},
   "source": [
    "We then need to get a matrix of individual words used in the model, that we can use to work our way back from a model prediction to a set of terms that explain those predictions. We can do this by tokenising all the data in our corpus and put these tokens into a set."
   ]
  },
  {
   "cell_type": "code",
   "execution_count": 18,
   "metadata": {},
   "outputs": [],
   "source": [
    "vocab = set()\n",
    "for headline in df.webTitle:\n",
    "    vocab.update([w.lower() for w in headline.split() if w.lower() in glove_vectors.vocab])\n",
    "vocab = list(vocab)"
   ]
  },
  {
   "cell_type": "code",
   "execution_count": 19,
   "metadata": {},
   "outputs": [],
   "source": [
    "vocab_matrix = np.array([glove_vectors[w] for w in vocab])"
   ]
  },
  {
   "cell_type": "markdown",
   "metadata": {},
   "source": [
    "## Train Models"
   ]
  },
  {
   "cell_type": "code",
   "execution_count": 20,
   "metadata": {},
   "outputs": [],
   "source": [
    "from sklearn.metrics import classification_report\n",
    "import matplotlib.pyplot as plt"
   ]
  },
  {
   "cell_type": "markdown",
   "metadata": {},
   "source": [
    "## Support Vector Machine"
   ]
  },
  {
   "cell_type": "markdown",
   "metadata": {},
   "source": [
    "Support Vector Machines attempts to find a line or hyperplane that separates the datapoints from each class with the largest possible margin.\n",
    "\n",
    "One way to understand what our model is picking up on is to calculate the distance of each of the words in our vocabulary to the decision plane. Words that are far from the decision plane are presumably more discriminative, and should therefore give us a clue as to what the model is picking up on. Similarly, words that are very close to the separating line should be words that are not discriminatory; meaning either general vocabulary or terms typically used in both domains.\n",
    "\n",
    "We can get the distance of each word from the decision boundary by taking the decision function value we get from running the word through the trained algorithm divided by the l2 norm of the coefficient vector.\n",
    "\n",
    "\\begin{align}\n",
    "dist & = \\frac{f(x)}{\\lVert w \\rVert} \\\\\n",
    "\\end{align}\n",
    "\n",
    "Below is a two-dimentional illustration of what we expect to see, but the intuition generalises to multiple dimensions"
   ]
  },
  {
   "cell_type": "code",
   "execution_count": 21,
   "metadata": {},
   "outputs": [
    {
     "data": {
      "image/png": "[encoded data removed]",
      "text/plain": [
       "<Figure size 720x720 with 1 Axes>"
      ]
     },
     "metadata": {
      "needs_background": "light"
     },
     "output_type": "display_data"
    }
   ],
   "source": [
    "plt.figure(figsize=(10,10))\n",
    "plt.plot([0, 5], [0, 5], 'k-', lw=2)\n",
    "plt.plot([1, 5], [0, 4], '--', c='r')\n",
    "plt.plot([0, 4], [1, 5], '--', c='r')\n",
    "\n",
    "plt.arrow(2.5, 2.5, dx = 2, dy= -2, ls='--', length_includes_head = True, head_width=0.1, head_length=0.1)\n",
    "plt.arrow(3.5, 3.5, dx = 1, dy= -1, ls='--', length_includes_head = True, head_width=0.1, head_length=0.1)\n",
    "plt.arrow(2, 2, dx = -1, dy= 1, ls='--', length_includes_head = True, head_width=0.1, head_length=0.1)\n",
    "plt.arrow(2.75, 2.75, dx = -2, dy= 2, ls='--', length_includes_head = True, head_width=0.1, head_length=0.1)\n",
    "\n",
    "plt.annotate(s = 'democracy', xy = (0.5,5))\n",
    "plt.annotate(s = 'vote', xy = (1,3))\n",
    "\n",
    "plt.annotate(s = 'league', xy = (4.5,2.5))\n",
    "plt.annotate(s = 'football', xy = (4.5,0.5))\n",
    "\n",
    "plt.annotate(s = 'this\\n\\nthat', xy = (1.5,2))\n",
    "plt.annotate(s = 'are\\n\\ncome', xy = (2.5,2))\n",
    "plt.annotate(s = 'win\\n\\nlose', xy = (3,3.5))\n",
    "\n",
    "plt.show()"
   ]
  },
  {
   "cell_type": "markdown",
   "metadata": {},
   "source": [
    "## Train and Fit Model"
   ]
  },
  {
   "cell_type": "code",
   "execution_count": 22,
   "metadata": {},
   "outputs": [],
   "source": [
    "from sklearn.svm import SVC"
   ]
  },
  {
   "cell_type": "code",
   "execution_count": 23,
   "metadata": {},
   "outputs": [],
   "source": [
    "svm = SVC(kernel = 'linear', C = 1, class_weight='balanced')"
   ]
  },
  {
   "cell_type": "code",
   "execution_count": 24,
   "metadata": {},
   "outputs": [
    {
     "data": {
      "text/plain": [
       "SVC(C=1, break_ties=False, cache_size=200, class_weight='balanced', coef0=0.0,\n",
       "    decision_function_shape='ovr', degree=3, gamma='scale', kernel='linear',\n",
       "    max_iter=-1, probability=False, random_state=None, shrinking=True,\n",
       "    tol=0.001, verbose=False)"
      ]
     },
     "execution_count": 24,
     "metadata": {},
     "output_type": "execute_result"
    }
   ],
   "source": [
    "svm.fit(X_train, y_train)"
   ]
  },
  {
   "cell_type": "markdown",
   "metadata": {},
   "source": [
    "## Predict on unseen data"
   ]
  },
  {
   "cell_type": "code",
   "execution_count": 25,
   "metadata": {},
   "outputs": [
    {
     "name": "stdout",
     "output_type": "stream",
     "text": [
      "              precision    recall  f1-score   support\n",
      "\n",
      "    politics       0.91      0.97      0.94       158\n",
      "       sport       0.98      0.95      0.97       301\n",
      "\n",
      "    accuracy                           0.96       459\n",
      "   macro avg       0.95      0.96      0.95       459\n",
      "weighted avg       0.96      0.96      0.96       459\n",
      "\n"
     ]
    }
   ],
   "source": [
    "y_pred = svm.predict(X_test)\n",
    "print(classification_report(y_test, y_pred))"
   ]
  },
  {
   "cell_type": "markdown",
   "metadata": {},
   "source": [
    "## Calculate distance from each word to the decision boundary"
   ]
  },
  {
   "cell_type": "code",
   "execution_count": 26,
   "metadata": {},
   "outputs": [],
   "source": [
    "dist = svm.decision_function(vocab_matrix) / np.linalg.norm(svm.coef_)"
   ]
  },
  {
   "cell_type": "code",
   "execution_count": 27,
   "metadata": {},
   "outputs": [],
   "source": [
    "distance_df = pd.DataFrame({'word':vocab, 'distance':dist})"
   ]
  },
  {
   "cell_type": "markdown",
   "metadata": {},
   "source": [
    "## Sort Vocabulary Words by distance to the decision boundary"
   ]
  },
  {
   "cell_type": "code",
   "execution_count": 28,
   "metadata": {},
   "outputs": [
    {
     "data": {
      "text/html": [
       "<div>\n",
       "<style scoped>\n",
       "    .dataframe tbody tr th:only-of-type {\n",
       "        vertical-align: middle;\n",
       "    }\n",
       "\n",
       "    .dataframe tbody tr th {\n",
       "        vertical-align: top;\n",
       "    }\n",
       "\n",
       "    .dataframe thead th {\n",
       "        text-align: right;\n",
       "    }\n",
       "</style>\n",
       "<table border=\"1\" class=\"dataframe\">\n",
       "  <thead>\n",
       "    <tr style=\"text-align: right;\">\n",
       "      <th></th>\n",
       "      <th>word</th>\n",
       "      <th>distance</th>\n",
       "    </tr>\n",
       "  </thead>\n",
       "  <tbody>\n",
       "    <tr>\n",
       "      <th>2582</th>\n",
       "      <td>sevens</td>\n",
       "      <td>2.561792</td>\n",
       "    </tr>\n",
       "    <tr>\n",
       "      <th>82</th>\n",
       "      <td>a-league</td>\n",
       "      <td>2.385136</td>\n",
       "    </tr>\n",
       "    <tr>\n",
       "      <th>2350</th>\n",
       "      <td>rugby</td>\n",
       "      <td>2.384202</td>\n",
       "    </tr>\n",
       "    <tr>\n",
       "      <th>1203</th>\n",
       "      <td>nrl</td>\n",
       "      <td>2.268408</td>\n",
       "    </tr>\n",
       "    <tr>\n",
       "      <th>1135</th>\n",
       "      <td>paralympic</td>\n",
       "      <td>2.252786</td>\n",
       "    </tr>\n",
       "    <tr>\n",
       "      <th>213</th>\n",
       "      <td>championship</td>\n",
       "      <td>2.213799</td>\n",
       "    </tr>\n",
       "    <tr>\n",
       "      <th>2177</th>\n",
       "      <td>cycling</td>\n",
       "      <td>2.199589</td>\n",
       "    </tr>\n",
       "    <tr>\n",
       "      <th>4190</th>\n",
       "      <td>tennis</td>\n",
       "      <td>2.159167</td>\n",
       "    </tr>\n",
       "    <tr>\n",
       "      <th>3435</th>\n",
       "      <td>tournament</td>\n",
       "      <td>2.144038</td>\n",
       "    </tr>\n",
       "    <tr>\n",
       "      <th>755</th>\n",
       "      <td>squad</td>\n",
       "      <td>2.125921</td>\n",
       "    </tr>\n",
       "  </tbody>\n",
       "</table>\n",
       "</div>"
      ],
      "text/plain": [
       "              word  distance\n",
       "2582        sevens  2.561792\n",
       "82        a-league  2.385136\n",
       "2350         rugby  2.384202\n",
       "1203           nrl  2.268408\n",
       "1135    paralympic  2.252786\n",
       "213   championship  2.213799\n",
       "2177       cycling  2.199589\n",
       "4190        tennis  2.159167\n",
       "3435    tournament  2.144038\n",
       "755          squad  2.125921"
      ]
     },
     "execution_count": 28,
     "metadata": {},
     "output_type": "execute_result"
    }
   ],
   "source": [
    "distance_df.sort_values('distance', ascending = False).head(10)"
   ]
  },
  {
   "cell_type": "markdown",
   "metadata": {},
   "source": [
    "We can clearly see that the words that are the furthest from the decision boundary on the positive side are all sports related words like rugby, paralympic and tournament. This suggest that these words and words similar to them are particlarly important for the model to recognise a headline as a sports headline.\n",
    "\n",
    "When looking at the words that are the furthest away from the decision boundary on the negative side, these are, as suspected political terms like minister, labour and parliament. Again this tells us that our model are focusing on terms that are similar to these when deciding whether to classify a headline as a politics headline."
   ]
  },
  {
   "cell_type": "code",
   "execution_count": 29,
   "metadata": {},
   "outputs": [
    {
     "data": {
      "text/html": [
       "<div>\n",
       "<style scoped>\n",
       "    .dataframe tbody tr th:only-of-type {\n",
       "        vertical-align: middle;\n",
       "    }\n",
       "\n",
       "    .dataframe tbody tr th {\n",
       "        vertical-align: top;\n",
       "    }\n",
       "\n",
       "    .dataframe thead th {\n",
       "        text-align: right;\n",
       "    }\n",
       "</style>\n",
       "<table border=\"1\" class=\"dataframe\">\n",
       "  <thead>\n",
       "    <tr style=\"text-align: right;\">\n",
       "      <th></th>\n",
       "      <th>word</th>\n",
       "      <th>distance</th>\n",
       "    </tr>\n",
       "  </thead>\n",
       "  <tbody>\n",
       "    <tr>\n",
       "      <th>803</th>\n",
       "      <td>minister</td>\n",
       "      <td>-2.222333</td>\n",
       "    </tr>\n",
       "    <tr>\n",
       "      <th>3697</th>\n",
       "      <td>labour</td>\n",
       "      <td>-2.092312</td>\n",
       "    </tr>\n",
       "    <tr>\n",
       "      <th>1654</th>\n",
       "      <td>parliament</td>\n",
       "      <td>-2.006268</td>\n",
       "    </tr>\n",
       "    <tr>\n",
       "      <th>2021</th>\n",
       "      <td>liberal</td>\n",
       "      <td>-1.884801</td>\n",
       "    </tr>\n",
       "    <tr>\n",
       "      <th>4103</th>\n",
       "      <td>tory</td>\n",
       "      <td>-1.868131</td>\n",
       "    </tr>\n",
       "    <tr>\n",
       "      <th>508</th>\n",
       "      <td>party</td>\n",
       "      <td>-1.847066</td>\n",
       "    </tr>\n",
       "    <tr>\n",
       "      <th>2063</th>\n",
       "      <td>conservatives</td>\n",
       "      <td>-1.814579</td>\n",
       "    </tr>\n",
       "    <tr>\n",
       "      <th>2584</th>\n",
       "      <td>chancellor</td>\n",
       "      <td>-1.798007</td>\n",
       "    </tr>\n",
       "    <tr>\n",
       "      <th>5290</th>\n",
       "      <td>tories</td>\n",
       "      <td>-1.710996</td>\n",
       "    </tr>\n",
       "    <tr>\n",
       "      <th>5216</th>\n",
       "      <td>conservative</td>\n",
       "      <td>-1.624608</td>\n",
       "    </tr>\n",
       "  </tbody>\n",
       "</table>\n",
       "</div>"
      ],
      "text/plain": [
       "               word  distance\n",
       "803        minister -2.222333\n",
       "3697         labour -2.092312\n",
       "1654     parliament -2.006268\n",
       "2021        liberal -1.884801\n",
       "4103           tory -1.868131\n",
       "508           party -1.847066\n",
       "2063  conservatives -1.814579\n",
       "2584     chancellor -1.798007\n",
       "5290         tories -1.710996\n",
       "5216   conservative -1.624608"
      ]
     },
     "execution_count": 29,
     "metadata": {},
     "output_type": "execute_result"
    }
   ],
   "source": [
    "distance_df.sort_values('distance', ascending = True).head(10)"
   ]
  },
  {
   "cell_type": "markdown",
   "metadata": {},
   "source": [
    "We can look at words that are close to the decision boundary. Here we find as hypothesised a set of words that are either not associated with either politics or sports, like *when* or *talking*, or associated with both, like *defence* or *hamilton (both formula one driver and name of several politicians*."
   ]
  },
  {
   "cell_type": "code",
   "execution_count": 30,
   "metadata": {},
   "outputs": [
    {
     "data": {
      "text/html": [
       "<div>\n",
       "<style scoped>\n",
       "    .dataframe tbody tr th:only-of-type {\n",
       "        vertical-align: middle;\n",
       "    }\n",
       "\n",
       "    .dataframe tbody tr th {\n",
       "        vertical-align: top;\n",
       "    }\n",
       "\n",
       "    .dataframe thead th {\n",
       "        text-align: right;\n",
       "    }\n",
       "</style>\n",
       "<table border=\"1\" class=\"dataframe\">\n",
       "  <thead>\n",
       "    <tr style=\"text-align: right;\">\n",
       "      <th></th>\n",
       "      <th>word</th>\n",
       "      <th>distance</th>\n",
       "    </tr>\n",
       "  </thead>\n",
       "  <tbody>\n",
       "    <tr>\n",
       "      <th>18</th>\n",
       "      <td>launch</td>\n",
       "      <td>0.001324</td>\n",
       "    </tr>\n",
       "    <tr>\n",
       "      <th>117</th>\n",
       "      <td>appeal</td>\n",
       "      <td>-0.008476</td>\n",
       "    </tr>\n",
       "    <tr>\n",
       "      <th>145</th>\n",
       "      <td>vital</td>\n",
       "      <td>0.009059</td>\n",
       "    </tr>\n",
       "    <tr>\n",
       "      <th>195</th>\n",
       "      <td>bale</td>\n",
       "      <td>-0.002664</td>\n",
       "    </tr>\n",
       "    <tr>\n",
       "      <th>303</th>\n",
       "      <td>affected</td>\n",
       "      <td>-0.005008</td>\n",
       "    </tr>\n",
       "    <tr>\n",
       "      <th>329</th>\n",
       "      <td>mcnicholl</td>\n",
       "      <td>-0.009333</td>\n",
       "    </tr>\n",
       "    <tr>\n",
       "      <th>354</th>\n",
       "      <td>credentials</td>\n",
       "      <td>0.001708</td>\n",
       "    </tr>\n",
       "    <tr>\n",
       "      <th>473</th>\n",
       "      <td>barrel</td>\n",
       "      <td>-0.005074</td>\n",
       "    </tr>\n",
       "    <tr>\n",
       "      <th>518</th>\n",
       "      <td>anything</td>\n",
       "      <td>0.007034</td>\n",
       "    </tr>\n",
       "    <tr>\n",
       "      <th>571</th>\n",
       "      <td>aims</td>\n",
       "      <td>0.007861</td>\n",
       "    </tr>\n",
       "  </tbody>\n",
       "</table>\n",
       "</div>"
      ],
      "text/plain": [
       "            word  distance\n",
       "18        launch  0.001324\n",
       "117       appeal -0.008476\n",
       "145        vital  0.009059\n",
       "195         bale -0.002664\n",
       "303     affected -0.005008\n",
       "329    mcnicholl -0.009333\n",
       "354  credentials  0.001708\n",
       "473       barrel -0.005074\n",
       "518     anything  0.007034\n",
       "571         aims  0.007861"
      ]
     },
     "execution_count": 30,
     "metadata": {},
     "output_type": "execute_result"
    }
   ],
   "source": [
    "distance_df.loc[distance_df.distance.between(-0.01, 0.01)].head(10)"
   ]
  },
  {
   "cell_type": "markdown",
   "metadata": {},
   "source": [
    "# Logistic Regression"
   ]
  },
  {
   "cell_type": "markdown",
   "metadata": {},
   "source": [
    "We can make a similar form of analysis using a logistic regression. However, rather than calculating the distance of all our vocabulary words from the decision boundary, we predict the class probability of each word."
   ]
  },
  {
   "cell_type": "code",
   "execution_count": 31,
   "metadata": {},
   "outputs": [
    {
     "data": {
      "image/png": "[encoded data removed]",
      "text/plain": [
       "<Figure size 720x576 with 1 Axes>"
      ]
     },
     "metadata": {
      "needs_background": "light"
     },
     "output_type": "display_data"
    }
   ],
   "source": [
    "sigmoid = lambda x: 1 / (1 + np.exp(-x))\n",
    "y=np.linspace(-10,10,100)\n",
    "\n",
    "plt.figure(figsize=(10,8))\n",
    "plt.plot(y,sigmoid(y),'k')\n",
    "for i in range(-10, 1):\n",
    "    plt.plot(i, 0, 'ro')\n",
    "for i in range(0, 11):\n",
    "    plt.plot(i, 1, 'ro')\n",
    "plt.ylabel('Probability of Headline being Sports')\n",
    "plt.arrow(-10, 0.2, dx = 0, dy= -0.2, ls='--', length_includes_head = True, head_width=0.2, head_length=0.05)\n",
    "plt.arrow(-7, 0.2, dx = 0, dy= -0.2, ls='--', length_includes_head = True, head_width=0.2, head_length=0.05)\n",
    "plt.arrow(10, 0.8, dx = 0, dy= 0.2, ls='--', length_includes_head = True, head_width=0.2, head_length=0.05)\n",
    "plt.arrow(8, 0.8, dx = 0, dy= 0.2, ls='--', length_includes_head = True, head_width=0.2, head_length=0.05)\n",
    "\n",
    "plt.annotate(s = 'democracy', xy = (-10.5,0.25))\n",
    "plt.annotate(s = 'vote', xy = (-7.5,0.25))\n",
    "plt.annotate(s = 'league', xy = (9.5,0.75))\n",
    "plt.annotate(s = 'football', xy = (7.5,0.75))\n",
    "\n",
    "plt.annotate(s = 'this\\n\\nthat', xy = (0, 0.45))\n",
    "plt.annotate(s = 'are\\n\\ncome', xy = (-2.5, 0.35))\n",
    "plt.annotate(s = 'win\\n\\nlose', xy = (2, 0.55))\n",
    "\n",
    "plt.show()"
   ]
  },
  {
   "cell_type": "markdown",
   "metadata": {},
   "source": [
    "## Train Model"
   ]
  },
  {
   "cell_type": "code",
   "execution_count": 32,
   "metadata": {},
   "outputs": [],
   "source": [
    "# Dependency\n",
    "from sklearn.linear_model import LogisticRegression"
   ]
  },
  {
   "cell_type": "code",
   "execution_count": 33,
   "metadata": {},
   "outputs": [],
   "source": [
    "lr = LogisticRegression()"
   ]
  },
  {
   "cell_type": "code",
   "execution_count": 34,
   "metadata": {},
   "outputs": [
    {
     "data": {
      "text/plain": [
       "LogisticRegression(C=1.0, class_weight=None, dual=False, fit_intercept=True,\n",
       "                   intercept_scaling=1, l1_ratio=None, max_iter=100,\n",
       "                   multi_class='auto', n_jobs=None, penalty='l2',\n",
       "                   random_state=None, solver='lbfgs', tol=0.0001, verbose=0,\n",
       "                   warm_start=False)"
      ]
     },
     "execution_count": 34,
     "metadata": {},
     "output_type": "execute_result"
    }
   ],
   "source": [
    "lr.fit(X_train, y_train)"
   ]
  },
  {
   "cell_type": "code",
   "execution_count": 35,
   "metadata": {},
   "outputs": [
    {
     "name": "stdout",
     "output_type": "stream",
     "text": [
      "              precision    recall  f1-score   support\n",
      "\n",
      "    politics       0.91      0.97      0.94       158\n",
      "       sport       0.98      0.95      0.97       301\n",
      "\n",
      "    accuracy                           0.96       459\n",
      "   macro avg       0.95      0.96      0.95       459\n",
      "weighted avg       0.96      0.96      0.96       459\n",
      "\n"
     ]
    }
   ],
   "source": [
    "y_pred = svm.predict(X_test)\n",
    "print(classification_report(y_test, y_pred))"
   ]
  },
  {
   "cell_type": "markdown",
   "metadata": {},
   "source": [
    "## Get probability score for each vocabulary word"
   ]
  },
  {
   "cell_type": "code",
   "execution_count": 36,
   "metadata": {},
   "outputs": [],
   "source": [
    "prob_df = pd.DataFrame({'word':vocab, 'probability':lr.predict_proba(vocab_matrix)[:,0]})"
   ]
  },
  {
   "cell_type": "code",
   "execution_count": 37,
   "metadata": {},
   "outputs": [
    {
     "data": {
      "text/html": [
       "<div>\n",
       "<style scoped>\n",
       "    .dataframe tbody tr th:only-of-type {\n",
       "        vertical-align: middle;\n",
       "    }\n",
       "\n",
       "    .dataframe tbody tr th {\n",
       "        vertical-align: top;\n",
       "    }\n",
       "\n",
       "    .dataframe thead th {\n",
       "        text-align: right;\n",
       "    }\n",
       "</style>\n",
       "<table border=\"1\" class=\"dataframe\">\n",
       "  <thead>\n",
       "    <tr style=\"text-align: right;\">\n",
       "      <th></th>\n",
       "      <th>word</th>\n",
       "      <th>probability</th>\n",
       "    </tr>\n",
       "  </thead>\n",
       "  <tbody>\n",
       "    <tr>\n",
       "      <th>2582</th>\n",
       "      <td>sevens</td>\n",
       "      <td>0.000000e+00</td>\n",
       "    </tr>\n",
       "    <tr>\n",
       "      <th>3435</th>\n",
       "      <td>tournament</td>\n",
       "      <td>2.220446e-16</td>\n",
       "    </tr>\n",
       "    <tr>\n",
       "      <th>213</th>\n",
       "      <td>championship</td>\n",
       "      <td>2.220446e-16</td>\n",
       "    </tr>\n",
       "    <tr>\n",
       "      <th>2350</th>\n",
       "      <td>rugby</td>\n",
       "      <td>8.881784e-16</td>\n",
       "    </tr>\n",
       "    <tr>\n",
       "      <th>82</th>\n",
       "      <td>a-league</td>\n",
       "      <td>1.998401e-15</td>\n",
       "    </tr>\n",
       "    <tr>\n",
       "      <th>4410</th>\n",
       "      <td>finals</td>\n",
       "      <td>1.998401e-15</td>\n",
       "    </tr>\n",
       "    <tr>\n",
       "      <th>3602</th>\n",
       "      <td>champions</td>\n",
       "      <td>3.530509e-14</td>\n",
       "    </tr>\n",
       "    <tr>\n",
       "      <th>1203</th>\n",
       "      <td>nrl</td>\n",
       "      <td>3.819167e-14</td>\n",
       "    </tr>\n",
       "    <tr>\n",
       "      <th>4190</th>\n",
       "      <td>tennis</td>\n",
       "      <td>4.796163e-14</td>\n",
       "    </tr>\n",
       "    <tr>\n",
       "      <th>755</th>\n",
       "      <td>squad</td>\n",
       "      <td>7.638334e-14</td>\n",
       "    </tr>\n",
       "  </tbody>\n",
       "</table>\n",
       "</div>"
      ],
      "text/plain": [
       "              word   probability\n",
       "2582        sevens  0.000000e+00\n",
       "3435    tournament  2.220446e-16\n",
       "213   championship  2.220446e-16\n",
       "2350         rugby  8.881784e-16\n",
       "82        a-league  1.998401e-15\n",
       "4410        finals  1.998401e-15\n",
       "3602     champions  3.530509e-14\n",
       "1203           nrl  3.819167e-14\n",
       "4190        tennis  4.796163e-14\n",
       "755          squad  7.638334e-14"
      ]
     },
     "execution_count": 37,
     "metadata": {},
     "output_type": "execute_result"
    }
   ],
   "source": [
    "prob_df.sort_values('probability', ascending = True).head(10)"
   ]
  },
  {
   "cell_type": "markdown",
   "metadata": {},
   "source": [
    "Again we are seeing near identical results to what we saw with the support vector machines. All terms with a low probability of being a politics headline are sports terms.\n",
    "\n",
    "Of the words given a high probability for politics article, we see the same politics terms popping up as with the svm."
   ]
  },
  {
   "cell_type": "code",
   "execution_count": 38,
   "metadata": {},
   "outputs": [
    {
     "data": {
      "text/html": [
       "<div>\n",
       "<style scoped>\n",
       "    .dataframe tbody tr th:only-of-type {\n",
       "        vertical-align: middle;\n",
       "    }\n",
       "\n",
       "    .dataframe tbody tr th {\n",
       "        vertical-align: top;\n",
       "    }\n",
       "\n",
       "    .dataframe thead th {\n",
       "        text-align: right;\n",
       "    }\n",
       "</style>\n",
       "<table border=\"1\" class=\"dataframe\">\n",
       "  <thead>\n",
       "    <tr style=\"text-align: right;\">\n",
       "      <th></th>\n",
       "      <th>word</th>\n",
       "      <th>probability</th>\n",
       "    </tr>\n",
       "  </thead>\n",
       "  <tbody>\n",
       "    <tr>\n",
       "      <th>803</th>\n",
       "      <td>minister</td>\n",
       "      <td>1.0</td>\n",
       "    </tr>\n",
       "    <tr>\n",
       "      <th>3697</th>\n",
       "      <td>labour</td>\n",
       "      <td>1.0</td>\n",
       "    </tr>\n",
       "    <tr>\n",
       "      <th>1654</th>\n",
       "      <td>parliament</td>\n",
       "      <td>1.0</td>\n",
       "    </tr>\n",
       "    <tr>\n",
       "      <th>2021</th>\n",
       "      <td>liberal</td>\n",
       "      <td>1.0</td>\n",
       "    </tr>\n",
       "    <tr>\n",
       "      <th>508</th>\n",
       "      <td>party</td>\n",
       "      <td>1.0</td>\n",
       "    </tr>\n",
       "    <tr>\n",
       "      <th>2063</th>\n",
       "      <td>conservatives</td>\n",
       "      <td>1.0</td>\n",
       "    </tr>\n",
       "    <tr>\n",
       "      <th>4103</th>\n",
       "      <td>tory</td>\n",
       "      <td>1.0</td>\n",
       "    </tr>\n",
       "    <tr>\n",
       "      <th>1034</th>\n",
       "      <td>parliamentary</td>\n",
       "      <td>1.0</td>\n",
       "    </tr>\n",
       "    <tr>\n",
       "      <th>5290</th>\n",
       "      <td>tories</td>\n",
       "      <td>1.0</td>\n",
       "    </tr>\n",
       "    <tr>\n",
       "      <th>435</th>\n",
       "      <td>prime</td>\n",
       "      <td>1.0</td>\n",
       "    </tr>\n",
       "  </tbody>\n",
       "</table>\n",
       "</div>"
      ],
      "text/plain": [
       "               word  probability\n",
       "803        minister          1.0\n",
       "3697         labour          1.0\n",
       "1654     parliament          1.0\n",
       "2021        liberal          1.0\n",
       "508           party          1.0\n",
       "2063  conservatives          1.0\n",
       "4103           tory          1.0\n",
       "1034  parliamentary          1.0\n",
       "5290         tories          1.0\n",
       "435           prime          1.0"
      ]
     },
     "execution_count": 38,
     "metadata": {},
     "output_type": "execute_result"
    }
   ],
   "source": [
    "prob_df.sort_values('probability', ascending = False).head(10)"
   ]
  },
  {
   "cell_type": "markdown",
   "metadata": {},
   "source": [
    "# Random Forests"
   ]
  },
  {
   "cell_type": "markdown",
   "metadata": {},
   "source": [
    "As you may have realised by now, this approach should work for any classifier that can output a probability score, be that a simple decision tree, a naive bayes or a deep neural network.\n",
    "\n",
    "As a final demonstration, I will run the task through a Random Forest Classifier. "
   ]
  },
  {
   "cell_type": "code",
   "execution_count": 39,
   "metadata": {},
   "outputs": [],
   "source": [
    "from sklearn.ensemble import RandomForestClassifier"
   ]
  },
  {
   "cell_type": "code",
   "execution_count": 40,
   "metadata": {},
   "outputs": [],
   "source": [
    "rf = RandomForestClassifier(criterion = 'entropy', max_depth = 15)"
   ]
  },
  {
   "cell_type": "code",
   "execution_count": 41,
   "metadata": {},
   "outputs": [
    {
     "data": {
      "text/plain": [
       "RandomForestClassifier(bootstrap=True, ccp_alpha=0.0, class_weight=None,\n",
       "                       criterion='entropy', max_depth=15, max_features='auto',\n",
       "                       max_leaf_nodes=None, max_samples=None,\n",
       "                       min_impurity_decrease=0.0, min_impurity_split=None,\n",
       "                       min_samples_leaf=1, min_samples_split=2,\n",
       "                       min_weight_fraction_leaf=0.0, n_estimators=100,\n",
       "                       n_jobs=None, oob_score=False, random_state=None,\n",
       "                       verbose=0, warm_start=False)"
      ]
     },
     "execution_count": 41,
     "metadata": {},
     "output_type": "execute_result"
    }
   ],
   "source": [
    "rf.fit(X_train, y_train)"
   ]
  },
  {
   "cell_type": "code",
   "execution_count": 42,
   "metadata": {},
   "outputs": [
    {
     "name": "stdout",
     "output_type": "stream",
     "text": [
      "              precision    recall  f1-score   support\n",
      "\n",
      "    politics       0.91      0.87      0.89       158\n",
      "       sport       0.93      0.95      0.94       301\n",
      "\n",
      "    accuracy                           0.92       459\n",
      "   macro avg       0.92      0.91      0.91       459\n",
      "weighted avg       0.92      0.92      0.92       459\n",
      "\n"
     ]
    }
   ],
   "source": [
    "y_pred = rf.predict(X_test)\n",
    "print(classification_report(y_test, y_pred))"
   ]
  },
  {
   "cell_type": "code",
   "execution_count": 43,
   "metadata": {},
   "outputs": [],
   "source": [
    "tree_df = pd.DataFrame({'word':vocab ,'probability':rf.predict_proba(vocab_matrix)[:,0]})"
   ]
  },
  {
   "cell_type": "code",
   "execution_count": 44,
   "metadata": {},
   "outputs": [
    {
     "data": {
      "text/html": [
       "<div>\n",
       "<style scoped>\n",
       "    .dataframe tbody tr th:only-of-type {\n",
       "        vertical-align: middle;\n",
       "    }\n",
       "\n",
       "    .dataframe tbody tr th {\n",
       "        vertical-align: top;\n",
       "    }\n",
       "\n",
       "    .dataframe thead th {\n",
       "        text-align: right;\n",
       "    }\n",
       "</style>\n",
       "<table border=\"1\" class=\"dataframe\">\n",
       "  <thead>\n",
       "    <tr style=\"text-align: right;\">\n",
       "      <th></th>\n",
       "      <th>word</th>\n",
       "      <th>probability</th>\n",
       "    </tr>\n",
       "  </thead>\n",
       "  <tbody>\n",
       "    <tr>\n",
       "      <th>3697</th>\n",
       "      <td>labour</td>\n",
       "      <td>0.93</td>\n",
       "    </tr>\n",
       "    <tr>\n",
       "      <th>2892</th>\n",
       "      <td>labor</td>\n",
       "      <td>0.92</td>\n",
       "    </tr>\n",
       "    <tr>\n",
       "      <th>1654</th>\n",
       "      <td>parliament</td>\n",
       "      <td>0.90</td>\n",
       "    </tr>\n",
       "    <tr>\n",
       "      <th>106</th>\n",
       "      <td>lawmakers</td>\n",
       "      <td>0.90</td>\n",
       "    </tr>\n",
       "    <tr>\n",
       "      <th>2028</th>\n",
       "      <td>political</td>\n",
       "      <td>0.90</td>\n",
       "    </tr>\n",
       "    <tr>\n",
       "      <th>5216</th>\n",
       "      <td>conservative</td>\n",
       "      <td>0.88</td>\n",
       "    </tr>\n",
       "    <tr>\n",
       "      <th>508</th>\n",
       "      <td>party</td>\n",
       "      <td>0.87</td>\n",
       "    </tr>\n",
       "    <tr>\n",
       "      <th>2021</th>\n",
       "      <td>liberal</td>\n",
       "      <td>0.87</td>\n",
       "    </tr>\n",
       "    <tr>\n",
       "      <th>2063</th>\n",
       "      <td>conservatives</td>\n",
       "      <td>0.86</td>\n",
       "    </tr>\n",
       "    <tr>\n",
       "      <th>634</th>\n",
       "      <td>reform</td>\n",
       "      <td>0.86</td>\n",
       "    </tr>\n",
       "  </tbody>\n",
       "</table>\n",
       "</div>"
      ],
      "text/plain": [
       "               word  probability\n",
       "3697         labour         0.93\n",
       "2892          labor         0.92\n",
       "1654     parliament         0.90\n",
       "106       lawmakers         0.90\n",
       "2028      political         0.90\n",
       "5216   conservative         0.88\n",
       "508           party         0.87\n",
       "2021        liberal         0.87\n",
       "2063  conservatives         0.86\n",
       "634          reform         0.86"
      ]
     },
     "execution_count": 44,
     "metadata": {},
     "output_type": "execute_result"
    }
   ],
   "source": [
    "tree_df.sort_values('probability', ascending = False).head(10)"
   ]
  },
  {
   "cell_type": "code",
   "execution_count": 45,
   "metadata": {},
   "outputs": [
    {
     "data": {
      "text/html": [
       "<div>\n",
       "<style scoped>\n",
       "    .dataframe tbody tr th:only-of-type {\n",
       "        vertical-align: middle;\n",
       "    }\n",
       "\n",
       "    .dataframe tbody tr th {\n",
       "        vertical-align: top;\n",
       "    }\n",
       "\n",
       "    .dataframe thead th {\n",
       "        text-align: right;\n",
       "    }\n",
       "</style>\n",
       "<table border=\"1\" class=\"dataframe\">\n",
       "  <thead>\n",
       "    <tr style=\"text-align: right;\">\n",
       "      <th></th>\n",
       "      <th>word</th>\n",
       "      <th>probability</th>\n",
       "    </tr>\n",
       "  </thead>\n",
       "  <tbody>\n",
       "    <tr>\n",
       "      <th>213</th>\n",
       "      <td>championship</td>\n",
       "      <td>0.07</td>\n",
       "    </tr>\n",
       "    <tr>\n",
       "      <th>2372</th>\n",
       "      <td>games</td>\n",
       "      <td>0.07</td>\n",
       "    </tr>\n",
       "    <tr>\n",
       "      <th>4049</th>\n",
       "      <td>matches</td>\n",
       "      <td>0.07</td>\n",
       "    </tr>\n",
       "    <tr>\n",
       "      <th>4410</th>\n",
       "      <td>finals</td>\n",
       "      <td>0.07</td>\n",
       "    </tr>\n",
       "    <tr>\n",
       "      <th>2020</th>\n",
       "      <td>scoring</td>\n",
       "      <td>0.09</td>\n",
       "    </tr>\n",
       "    <tr>\n",
       "      <th>3202</th>\n",
       "      <td>beating</td>\n",
       "      <td>0.09</td>\n",
       "    </tr>\n",
       "    <tr>\n",
       "      <th>2485</th>\n",
       "      <td>softball</td>\n",
       "      <td>0.12</td>\n",
       "    </tr>\n",
       "    <tr>\n",
       "      <th>2247</th>\n",
       "      <td>beat</td>\n",
       "      <td>0.12</td>\n",
       "    </tr>\n",
       "    <tr>\n",
       "      <th>3764</th>\n",
       "      <td>thrilling</td>\n",
       "      <td>0.12</td>\n",
       "    </tr>\n",
       "    <tr>\n",
       "      <th>3974</th>\n",
       "      <td>prix</td>\n",
       "      <td>0.13</td>\n",
       "    </tr>\n",
       "  </tbody>\n",
       "</table>\n",
       "</div>"
      ],
      "text/plain": [
       "              word  probability\n",
       "213   championship         0.07\n",
       "2372         games         0.07\n",
       "4049       matches         0.07\n",
       "4410        finals         0.07\n",
       "2020       scoring         0.09\n",
       "3202       beating         0.09\n",
       "2485      softball         0.12\n",
       "2247          beat         0.12\n",
       "3764     thrilling         0.12\n",
       "3974          prix         0.13"
      ]
     },
     "execution_count": 45,
     "metadata": {},
     "output_type": "execute_result"
    }
   ],
   "source": [
    "tree_df.sort_values('probability', ascending = True).head(10)"
   ]
  },
  {
   "cell_type": "markdown",
   "metadata": {},
   "source": [
    "## Conclusion"
   ]
  },
  {
   "cell_type": "markdown",
   "metadata": {},
   "source": [
    "In this notebook I have proposed and demonstrated a simple approach to add interpretability to any classifier taking word embeddings as features. This simple approach allows you to sense check that what your classifier picks up is reasonable, and at least to some extent explain the data generating process.\n",
    "\n",
    "All though this approach is not directly applicable to regression problems, you can do something fairly similar... but that is for another post."
   ]
  }
 ],
 "metadata": {
  "kernelspec": {
   "display_name": "Python 3",
   "language": "python",
   "name": "python3"
  },
  "language_info": {
   "codemirror_mode": {
    "name": "ipython",
    "version": 3
   },
   "file_extension": ".py",
   "mimetype": "text/x-python",
   "name": "python",
   "nbconvert_exporter": "python",
   "pygments_lexer": "ipython3",
   "version": "3.7.4"
  }
 },
 "nbformat": 4,
 "nbformat_minor": 2
}
